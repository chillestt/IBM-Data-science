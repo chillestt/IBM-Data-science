{
  "nbformat": 4,
  "nbformat_minor": 0,
  "metadata": {
    "colab": {
      "provenance": []
    },
    "kernelspec": {
      "name": "python3",
      "display_name": "Python 3"
    },
    "language_info": {
      "name": "python"
    }
  },
  "cells": [
    {
      "cell_type": "markdown",
      "source": [
        "# Data Science Tools and Ecosystem\n",
        "\n"
      ],
      "metadata": {
        "id": "WzPOTjJX55pH"
      }
    },
    {
      "cell_type": "markdown",
      "source": [
        "In this notebook, Data Science Tools and Ecosystem are summarized"
      ],
      "metadata": {
        "id": "H2jUGsFB6D-v"
      }
    },
    {
      "cell_type": "markdown",
      "source": [
        "Some of the popular languages that Data Scientists use are:\n",
        "\n",
        "\n",
        "1.   Python\n",
        "2.   R\n",
        "3.   Java\n",
        "\n"
      ],
      "metadata": {
        "id": "3Tysqanl6Hh2"
      }
    },
    {
      "cell_type": "markdown",
      "source": [
        "Some of the commonly used libraries used by Data Scientists include:\n",
        "\n",
        "\n",
        "1.   Pandas/Numpy\n",
        "2.   Scikit-learn\n",
        "3.   Tensorflow\n",
        "\n"
      ],
      "metadata": {
        "id": "oF_1qrgx6Qd-"
      }
    },
    {
      "cell_type": "markdown",
      "source": [
        "| Data science tools   |\n",
        "| ----------- |\n",
        "| Jupyter notebook      |\n",
        "| PySpark   |\n",
        "| RStudio |"
      ],
      "metadata": {
        "id": "uV-sldWk6bnB"
      }
    },
    {
      "cell_type": "markdown",
      "source": [
        "Below are a few examples of evaluating arithmetic expressions in Python"
      ],
      "metadata": {
        "id": "ttOhpssO601I"
      }
    },
    {
      "cell_type": "code",
      "execution_count": 2,
      "metadata": {
        "colab": {
          "base_uri": "https://localhost:8080/"
        },
        "id": "nLMU31w_415i",
        "outputId": "17890cfa-901b-4975-a79b-dd29c1fbaf33"
      },
      "outputs": [
        {
          "output_type": "execute_result",
          "data": {
            "text/plain": [
              "17"
            ]
          },
          "metadata": {},
          "execution_count": 2
        }
      ],
      "source": [
        "#  This a simple arithmetic expression to mutiply then add integers\n",
        "(3*4) + 5"
      ]
    },
    {
      "cell_type": "code",
      "source": [
        "# This will convert 200 minutes to hours by diving by 60\n",
        "minutes = 200\n",
        "print(f\"Convert {minutes} minutes into hours: \", 200/60)"
      ],
      "metadata": {
        "colab": {
          "base_uri": "https://localhost:8080/"
        },
        "id": "DpLlWyxY66te",
        "outputId": "13a14d32-bdbb-4440-d93d-1fb39ddde2b3"
      },
      "execution_count": 3,
      "outputs": [
        {
          "output_type": "stream",
          "name": "stdout",
          "text": [
            "Convert 200 minutes into hours:  3.3333333333333335\n"
          ]
        }
      ]
    },
    {
      "cell_type": "markdown",
      "source": [
        "# Objectives\n",
        "\n",
        "*   List popular languages for Data Science\n",
        "*   List popular tools for Data science\n",
        "*   List popular libraries, frameworks for data science\n",
        "\n"
      ],
      "metadata": {
        "id": "OJyR1zbK7ZKR"
      }
    },
    {
      "cell_type": "markdown",
      "source": [
        "## Author"
      ],
      "metadata": {
        "id": "jVQHXttx7wHa"
      }
    },
    {
      "cell_type": "markdown",
      "source": [
        "Nguyen Minh Chi"
      ],
      "metadata": {
        "id": "GnIW__0C7zwH"
      }
    }
  ]
}